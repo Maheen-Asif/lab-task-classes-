{
 "cells": [
  {
   "cell_type": "markdown",
   "id": "81a365e3",
   "metadata": {},
   "source": [
    "# Classes in Python: A Comprehensive Guide\n",
    "\n",
    "## Introduction\n",
    "### In Python, classes are a fundamental building block for object-oriented programming (OOP). OOP is a programming paradigm that uses objects and classes to model real-world scenarios. They allow you to create user-defined data structures that encapsulate both data (attributes) and behavior (methods). This encapsulation promotes code reusability, modularity, and maintainability."
   ]
  },
  {
   "cell_type": "markdown",
   "id": "0a0d6649",
   "metadata": {},
   "source": [
    "## Key Concepts\n",
    "### Class: A blueprint for creating objects. It defines the attributes and methods that objects of that class will possess.\n",
    "### Object: An instance of a class. It has its own unique set of attribute values.\n",
    "### Attributes: Variables that store data associated with an object.\n",
    "### Methods: Functions that operate on the object's data.\n",
    "### Constructor: A special method called __init__ that is automatically invoked when an object is created. It initializes the object's attributes.\n",
    "## Creating a Class and Object"
   ]
  },
  {
   "cell_type": "code",
   "execution_count": 1,
   "id": "0239378a",
   "metadata": {},
   "outputs": [
    {
     "name": "stdout",
     "output_type": "stream",
     "text": [
      "Buddy\n",
      "Buddy barks!\n"
     ]
    }
   ],
   "source": [
    "class Dog:\n",
    "    def __init__(self, name, breed):\n",
    "        self.name = name\n",
    "        self.breed = breed\n",
    "\n",
    "    def bark(self):\n",
    "        print(f\"{self.name} barks!\")\n",
    "\n",
    "# Create an object of the Dog class\n",
    "my_dog = Dog(\"Buddy\", \"Golden Retriever\")\n",
    "\n",
    "# Access attributes and call methods\n",
    "print(my_dog.name)  # Output: Buddy\n",
    "my_dog.bark()  # Output: Buddy barks!"
   ]
  },
  {
   "cell_type": "code",
   "execution_count": 10,
   "id": "4fdf8ab6-94e4-456d-a4e3-43d7421e8454",
   "metadata": {},
   "outputs": [
    {
     "name": "stdout",
     "output_type": "stream",
     "text": [
      "amina\n",
      "19\n",
      "fsd\n"
     ]
    }
   ],
   "source": [
    "#create a class person\n",
    "class person:                 #QUESTION 1\n",
    "     def __init__(self, name,age, city):\n",
    "          self.name = name\n",
    "          self.age=age\n",
    "          self.city= city\n",
    "person1= person(\"amina\", 19, \"fsd\")\n",
    "print(person1.name)\n",
    "print(person1.age)\n",
    "print(person1.city)\n"
   ]
  },
  {
   "cell_type": "code",
   "execution_count": 36,
   "id": "67b93994-5a61-4d12-934a-21f94f2172e4",
   "metadata": {},
   "outputs": [
    {
     "name": "stdout",
     "output_type": "stream",
     "text": [
      "2023\n",
      "2024\n",
      "2025\n",
      "make =2023,model=2024,year=2025\n"
     ]
    }
   ],
   "source": [
    "#CREATE A CLASS CAR\n",
    "class car:\n",
    "     def __init__(self, make,model,year):         #QUESTION 2\n",
    "          self.make = make\n",
    "          self.model=model\n",
    "          self.year= year\n",
    "     def type (self):\n",
    "             print(f\"make ={self.make},model={self.model},year={self.year}\")\n",
    "yeyeye=car(2023,2024,2025)\n",
    "print(yeyeye.make)\n",
    "print(yeyeye.model)\n",
    "print(yeyeye.year)\n",
    "yeyeye.type()"
   ]
  },
  {
   "cell_type": "code",
   "execution_count": null,
   "id": "81e71325-3b18-4136-9dac-0a6aeaeca3c0",
   "metadata": {},
   "outputs": [],
   "source": []
  },
  {
   "cell_type": "code",
   "execution_count": 1,
   "id": "b6d5a59d-77f0-4183-87af-1f57acf3d35f",
   "metadata": {},
   "outputs": [
    {
     "name": "stdout",
     "output_type": "stream",
     "text": [
      "Buddy\n",
      "Buddy barks!\n"
     ]
    }
   ],
   "source": [
    "class Dog:\n",
    "    def __init__(self, name, breed):\n",
    "        self.name = name\n",
    "        self.breed = breed\n",
    "\n",
    "    def bark(self):\n",
    "        print(f\"{self.name} barks!\")\n",
    "\n",
    "# Create an object of the Dog class\n",
    "my_dog = Dog(\"Buddy\", \"Golden Retriever\")\n",
    "\n",
    "# Access attributes and call methods\n",
    "print(my_dog.name)  # Output: Buddy\n",
    "my_dog.bark()  # Output: Buddy barks!"
   ]
  },
  {
   "cell_type": "markdown",
   "id": "db04f438",
   "metadata": {},
   "source": [
    "## Inheritance\n",
    "### Inheritance allows you to create new classes (child classes) that inherit attributes and methods from existing classes (parent classes). This promotes code reuse and hierarchical relationships between classes."
   ]
  },
  {
   "cell_type": "code",
   "execution_count": 2,
   "id": "9dcf9e3a",
   "metadata": {},
   "outputs": [
    {
     "name": "stdout",
     "output_type": "stream",
     "text": [
      "Buddy is eating.\n",
      "Buddy barks!\n"
     ]
    }
   ],
   "source": [
    "class Animal:\n",
    "    def __init__(self, name):\n",
    "        self.name = name\n",
    "\n",
    "    def eat(self):\n",
    "        print(f\"{self.name} is eating.\")\n",
    "\n",
    "class Dog(Animal):\n",
    "    def bark(self):\n",
    "        print(f\"{self.name} barks!\")\n",
    "\n",
    "my_dog = Dog(\"Buddy\")\n",
    "my_dog.eat()  # Output: Buddy is eating.\n",
    "my_dog.bark()  # Output: Buddy barks!"
   ]
  },
  {
   "cell_type": "code",
   "execution_count": 32,
   "id": "0d3e33cc-7d16-46b0-8c53-de2e30a5dc01",
   "metadata": {},
   "outputs": [
    {
     "name": "stdout",
     "output_type": "stream",
     "text": [
      "Bilal is eating.\n",
      "Bilal speaks!\n"
     ]
    }
   ],
   "source": [
    "class human:\n",
    "    def __init__(self, name):\n",
    "        self.name = name\n",
    "    def eat(self):\n",
    "          print(f\"{self.name} is eating.\")\n",
    "class person(human):\n",
    "    def euuuu(self):\n",
    "        print(f\"{self.name} speaks!\")\n",
    "myself =person(\"Bilal\")\n",
    "myself.eat()  \n",
    "myself.euuuu() \n"
   ]
  },
  {
   "cell_type": "markdown",
   "id": "d76e9927",
   "metadata": {},
   "source": [
    "## Encapsulation\n",
    "### Encapsulation is the practice of hiding the internal implementation details of a class from the outside world. This promotes code modularity and prevents unintended modifications."
   ]
  },
  {
   "cell_type": "code",
   "execution_count": 27,
   "id": "788a14d6",
   "metadata": {},
   "outputs": [],
   "source": [
    "class BankAccount:\n",
    "    def __init__(self, balance):\n",
    "        self.__balance = balance  # Private attribute\n",
    "\n",
    "    def deposit(self, amount):\n",
    "        self.__balance += amount\n",
    "\n",
    "    def withdraw(self, amount):\n",
    "        if self.__balance >= amount:\n",
    "            self.__balance -= amount\n",
    "        else:\n",
    "            print(\"Insufficient funds.\")\n",
    "\n",
    "    def get_balance(self):\n",
    "        return self.__balance"
   ]
  },
  {
   "cell_type": "markdown",
   "id": "99ec9b48",
   "metadata": {},
   "source": [
    "## Practice Exercises\n",
    "\n",
    "### 1. Create a class Person with attributes name, age, and city.\n",
    "### 2. Create a class Car with attributes make, model, and year.\n",
    "### 3. Create a class Circle with attributes radius and methods to calculate area and circumference.\n",
    "### 4. Create a class Rectangle with attributes length and width and methods to calculate area and perimeter.\n",
    "### 5. Create a class Student with attributes name, roll_number, and marks. Implement a method to calculate the average marks.\n",
    "### 6. Create a class Book with attributes title, author, and publication_year.\n",
    "### 7. Create a class Employee with attributes name, salary, and designation.\n",
    "### 8. Create a class Bank with attributes name, account_number, and balance. Implement methods to deposit and withdraw money.\n",
    "### 9. Create a class Shape with a method to calculate area. Create subclasses Circle, Rectangle, and Triangle that inherit from Shape and implement their specific area calculations.\n",
    "### 10. Create a class Animal with attributes name and sound. Create subclasses Dog, Cat, and Cow that inherit from Animal and implement their specific sounds.\n",
    "\n",
    "## Additional Tips\n",
    "### Use meaningful names for classes, attributes, and methods.\n",
    "### Write clear and concise code.\n",
    "### Use comments to explain complex logic.\n",
    "### Test your code thoroughly.\n",
    "### Consider using inheritance to avoid code duplication.\n",
    "### Encapsulate data to protect it from accidental modification.\n",
    "### Use polymorphism to create flexible and adaptable code."
   ]
  },
  {
   "cell_type": "code",
   "execution_count": 75,
   "id": "cae0ab42",
   "metadata": {},
   "outputs": [
    {
     "name": "stdout",
     "output_type": "stream",
     "text": [
      "maheen\n",
      "19\n",
      "lhr\n"
     ]
    }
   ],
   "source": [
    "   #QUESTION 1\n",
    "class person:              \n",
    "     def __init__(self, name,age, city):\n",
    "          self.name = name\n",
    "          self.age=age\n",
    "          self.city= city\n",
    "person1= person(\"maheen\", 19, \"lhr\")\n",
    "print(person1.name)\n",
    "print(person1.age)\n",
    "print(person1.city)\n"
   ]
  },
  {
   "cell_type": "code",
   "execution_count": 77,
   "id": "534c7f58-9553-43ff-a510-fbf47fa63c45",
   "metadata": {},
   "outputs": [
    {
     "name": "stdout",
     "output_type": "stream",
     "text": [
      "2023\n",
      "2024\n",
      "2025\n",
      "make =2023,model=2024,year=2025\n"
     ]
    }
   ],
   "source": [
    " #QUESTION 2\n",
    "class car:\n",
    "     def __init__(self, make,model,year):        \n",
    "          self.make = make\n",
    "          self.model=model\n",
    "          self.year= year\n",
    "     def type (self):\n",
    "             print(f\"make ={self.make},model={self.model},year={self.year}\")\n",
    "yeyeye=car(2023,2024,2025)\n",
    "print(yeyeye.make)\n",
    "print(yeyeye.model)\n",
    "print(yeyeye.year)\n",
    "yeyeye.type()"
   ]
  },
  {
   "cell_type": "code",
   "execution_count": 59,
   "id": "b06312ba-4e3f-418d-9912-33d13b46e68d",
   "metadata": {},
   "outputs": [
    {
     "name": "stdout",
     "output_type": "stream",
     "text": [
      "Area: 78.53981633974483\n",
      "Circumference: 31.41592653589793\n"
     ]
    }
   ],
   "source": [
    " #QUESTION 3\n",
    "\n",
    "import math\n",
    "\n",
    "class Circle:\n",
    "    def __init__(self, radius):\n",
    "        self.radius = radius  \n",
    "    def area(self):\n",
    "        return math.pi * self.radius ** 2\n",
    "    def circumference(self):\n",
    "        return 2 * math.pi * self.radius\n",
    "circle = Circle(5)  \n",
    "print(\"Area:\", circle.area())  \n",
    "print(\"Circumference:\", circle.circumference())  \n"
   ]
  },
  {
   "cell_type": "code",
   "execution_count": 61,
   "id": "33fff915-84b3-47c5-adbc-f4f71bb24c33",
   "metadata": {},
   "outputs": [
    {
     "name": "stdout",
     "output_type": "stream",
     "text": [
      "Area: 24\n",
      "Perimeter: 20\n"
     ]
    }
   ],
   "source": [
    "#QUESTION 4\n",
    "class Rectangle:\n",
    "    def __init__(self, length, width):\n",
    "        self.length = length  \n",
    "        self.width = width   \n",
    "    def area(self):\n",
    "        return self.length * self.width\n",
    "\n",
    "    def perimeter(self):\n",
    "        return 2 * (self.length + self.width)\n",
    "rectangle = Rectangle(4, 6)  \n",
    "print(\"Area:\", rectangle.area())  \n",
    "print(\"Perimeter:\", rectangle.perimeter())  \n"
   ]
  },
  {
   "cell_type": "code",
   "execution_count": 73,
   "id": "77e76462-64eb-4967-a282-5c7bcfeb9c0d",
   "metadata": {},
   "outputs": [
    {
     "name": "stdout",
     "output_type": "stream",
     "text": [
      "Average Marks: 72.6\n"
     ]
    }
   ],
   "source": [
    "#QUESTION 5\n",
    "class Student:\n",
    "    def __init__(self, name, roll_number, marks):\n",
    "        self.name = name             \n",
    "        self.roll_number = roll_number \n",
    "        self.marks = marks           \n",
    "    def average_marks(self):\n",
    "        # Calculate the average marks\n",
    "        return sum(self.marks) / len(self.marks) if self.marks else 0\n",
    "\n",
    "\n",
    "student = Student(\"ishmal\", 101, [85, 50, 58, 92, 78])  \n",
    "print(\"Average Marks:\", student.average_marks())  "
   ]
  },
  {
   "cell_type": "code",
   "execution_count": 83,
   "id": "bfe2f23c-7b3c-4023-8eab-f6cf724c8943",
   "metadata": {},
   "outputs": [
    {
     "name": "stdout",
     "output_type": "stream",
     "text": [
      "aab e hayat\n",
      "umewra ahmad\n",
      "2001\n"
     ]
    }
   ],
   "source": [
    "#QUESTION 6\n",
    "class book:\n",
    "    def __init__(self, title, author, publication_year):\n",
    "        self.title = title\n",
    "        self.author = author\n",
    "        self.publication_year = publication_year\n",
    "\n",
    "book = book(\"aab e hayat\" , \"umewra ahmad\" , 2001)\n",
    "print(book.title)\n",
    "print(book.author)\n",
    "print(book.publication_year)"
   ]
  },
  {
   "cell_type": "code",
   "execution_count": 113,
   "id": "ab1442de-8f45-43df-924d-61a2629eb201",
   "metadata": {},
   "outputs": [
    {
     "name": "stdout",
     "output_type": "stream",
     "text": [
      "ishmal\n",
      "90000\n",
      "manager\n"
     ]
    }
   ],
   "source": [
    "#QUESTION 7\n",
    "class employee:\n",
    "    def __init__(self, name, salary, designation):\n",
    "        self.name = name\n",
    "        self.salary = salary\n",
    "        self.designation = designation\n",
    "\n",
    "Employee=employee(\"ishmal\" , 90000, \"manager\")\n",
    "print(Employee.name)\n",
    "print(Employee.salary)\n",
    "print(Employee.designation)"
   ]
  },
  {
   "cell_type": "code",
   "execution_count": 121,
   "id": "b5fe0553-c8d7-445f-ac24-0c617232ab2b",
   "metadata": {},
   "outputs": [
    {
     "name": "stdout",
     "output_type": "stream",
     "text": [
      "Initial Balance: 100252000\n",
      "Deposited 50250. New balance: 100302250\n",
      "Withdrew 35800. New balance: 100266450\n",
      "Withdrew 22000. New balance: 100244450\n"
     ]
    }
   ],
   "source": [
    "#QUESTION 8\n",
    "class Bank:\n",
    "    def __init__(self, name, account_number, balance=0):\n",
    "        self.name = name                  \n",
    "        self.account_number = account_number  \n",
    "        self.balance = balance            \n",
    "    def deposit(self, amount):\n",
    "        if amount > 0:\n",
    "            self.balance += amount\n",
    "            print(f\"Deposited {amount}. New balance: {self.balance}\")\n",
    "        else:\n",
    "            print(\"Deposit amount must be positive.\")\n",
    "\n",
    "    def withdraw(self, amount):\n",
    "        if amount > 0:\n",
    "            if self.balance >= amount:\n",
    "                self.balance -= amount\n",
    "                print(f\"Withdrew {amount}. New balance: {self.balance}\")\n",
    "            else:\n",
    "                print(\"Insufficient balance.\")\n",
    "        else:\n",
    "            print(\"Withdrawal amount must be positive.\")\n",
    "\n",
    "\n",
    "bank_account = Bank(\"maheen asif\", \"123456789\", 100252000)\n",
    "print(\"Initial Balance:\", bank_account.balance)\n",
    "\n",
    "\n",
    "bank_account.deposit(50250)\n",
    "\n",
    "\n",
    "bank_account.withdraw(35800)\n",
    "\n",
    "bank_account.withdraw(22000)\n"
   ]
  },
  {
   "cell_type": "code",
   "execution_count": null,
   "id": "39fc2ce3-24ed-472c-b0e0-a35218157022",
   "metadata": {},
   "outputs": [],
   "source": []
  }
 ],
 "metadata": {
  "kernelspec": {
   "display_name": "Python 3 (ipykernel)",
   "language": "python",
   "name": "python3"
  },
  "language_info": {
   "codemirror_mode": {
    "name": "ipython",
    "version": 3
   },
   "file_extension": ".py",
   "mimetype": "text/x-python",
   "name": "python",
   "nbconvert_exporter": "python",
   "pygments_lexer": "ipython3",
   "version": "3.12.4"
  }
 },
 "nbformat": 4,
 "nbformat_minor": 5
}
